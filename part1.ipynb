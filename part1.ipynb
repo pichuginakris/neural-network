import torch
import torch.nn as nn
import torch.nn.functional as F

import torch.nn.init as I


def init_weights(m):
  
    if isinstance(m, nn.Conv2d):
        I.kaiming_uniform_(m.weight, nonlinearity='relu')
        

class Net(nn.Module):
    def __init__(self):
        super(Net, self).__init__()
        

        self.conv1 = nn.Conv2d(1, 32, 5)
        self.conv2 = nn.Conv2d(32, 64, 3)
        self.conv3 = nn.Conv2d(64, 128, 3)
        
       
        self.max_pool = nn.MaxPool2d(3,3)
        self.conv_bn = nn.BatchNorm2d(64)
        
        self.drop_out1 = nn.Dropout2d(0.1)
        self.drop_out2 = nn.Dropout2d(0.2)
        self.drop_out3 = nn.Dropout2d(0.3)
       
        
        self.fc_bn = nn.BatchNorm1d(512)
        
        self.fc1 = nn.Linear(6272,512)
        self.fc2 = nn.Linear(512,136)
       
        

        
    def forward(self, x):
        x = self.drop_out1(self.max_pool(F.relu(self.conv1(x))))
        x = self.drop_out2(self.max_pool(F.relu(self.conv_bn(self.conv2(x)))))
        x = self.drop_out3(self.max_pool(F.relu(self.conv3(x))))
        
        x = x.view(x.size(0),-1)
        x = F.relu(self.fc_bn(self.fc1(x)))
        x = self.fc2(x)
        
        return x
